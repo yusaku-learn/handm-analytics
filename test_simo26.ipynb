{
 "cells": [
  {
   "cell_type": "code",
   "execution_count": 1,
   "metadata": {},
   "outputs": [
    {
     "name": "stdout",
     "output_type": "stream",
     "text": [
      "Collecting mlxtend\n",
      "  Downloading mlxtend-0.22.0-py2.py3-none-any.whl (1.4 MB)\n",
      "Requirement already satisfied: matplotlib>=3.0.0 in c:\\users\\simo4\\anaconda3\\lib\\site-packages (from mlxtend) (3.5.1)\n",
      "Requirement already satisfied: joblib>=0.13.2 in c:\\users\\simo4\\anaconda3\\lib\\site-packages (from mlxtend) (1.1.0)\n",
      "Requirement already satisfied: setuptools in c:\\users\\simo4\\anaconda3\\lib\\site-packages (from mlxtend) (61.2.0)\n",
      "Requirement already satisfied: numpy>=1.16.2 in c:\\users\\simo4\\anaconda3\\lib\\site-packages (from mlxtend) (1.21.5)\n",
      "Requirement already satisfied: scipy>=1.2.1 in c:\\users\\simo4\\anaconda3\\lib\\site-packages (from mlxtend) (1.7.3)\n",
      "Requirement already satisfied: scikit-learn>=1.0.2 in c:\\users\\simo4\\anaconda3\\lib\\site-packages (from mlxtend) (1.0.2)\n",
      "Requirement already satisfied: pandas>=0.24.2 in c:\\users\\simo4\\anaconda3\\lib\\site-packages (from mlxtend) (1.4.2)\n",
      "Requirement already satisfied: python-dateutil>=2.7 in c:\\users\\simo4\\anaconda3\\lib\\site-packages (from matplotlib>=3.0.0->mlxtend) (2.8.2)\n",
      "Requirement already satisfied: kiwisolver>=1.0.1 in c:\\users\\simo4\\anaconda3\\lib\\site-packages (from matplotlib>=3.0.0->mlxtend) (1.3.2)\n",
      "Requirement already satisfied: cycler>=0.10 in c:\\users\\simo4\\anaconda3\\lib\\site-packages (from matplotlib>=3.0.0->mlxtend) (0.11.0)\n",
      "Requirement already satisfied: pillow>=6.2.0 in c:\\users\\simo4\\anaconda3\\lib\\site-packages (from matplotlib>=3.0.0->mlxtend) (9.0.1)\n",
      "Requirement already satisfied: fonttools>=4.22.0 in c:\\users\\simo4\\anaconda3\\lib\\site-packages (from matplotlib>=3.0.0->mlxtend) (4.25.0)\n",
      "Requirement already satisfied: pyparsing>=2.2.1 in c:\\users\\simo4\\anaconda3\\lib\\site-packages (from matplotlib>=3.0.0->mlxtend) (3.0.4)\n",
      "Requirement already satisfied: packaging>=20.0 in c:\\users\\simo4\\anaconda3\\lib\\site-packages (from matplotlib>=3.0.0->mlxtend) (21.3)\n",
      "Requirement already satisfied: pytz>=2020.1 in c:\\users\\simo4\\anaconda3\\lib\\site-packages (from pandas>=0.24.2->mlxtend) (2021.3)\n",
      "Requirement already satisfied: six>=1.5 in c:\\users\\simo4\\anaconda3\\lib\\site-packages (from python-dateutil>=2.7->matplotlib>=3.0.0->mlxtend) (1.16.0)\n",
      "Requirement already satisfied: threadpoolctl>=2.0.0 in c:\\users\\simo4\\anaconda3\\lib\\site-packages (from scikit-learn>=1.0.2->mlxtend) (2.2.0)\n",
      "Installing collected packages: mlxtend\n",
      "Successfully installed mlxtend-0.22.0\n",
      "Note: you may need to restart the kernel to use updated packages.\n"
     ]
    }
   ],
   "source": [
    "pip install mlxtend"
   ]
  },
  {
   "cell_type": "code",
   "execution_count": 15,
   "metadata": {},
   "outputs": [],
   "source": [
    "import pandas as pd\n",
    "# import fsspec\n",
    "# import gcsfs\n",
    "import random\n",
    "import datetime\n",
    "from mlxtend.frequent_patterns import association_rules\n",
    "from mlxtend.frequent_patterns import apriori\n",
    "\n",
    "age_list = [20,30,40,50,60,70,80]\n",
    "random_dict = {}\n",
    "\n",
    "\n",
    "# def hello_gcs(event, context):\n",
    "#     \"\"\"Triggered by a change to a Cloud Storage bucket.\n",
    "#     Args:\n",
    "#          event (dict): Event payload.\n",
    "#          context (google.cloud.functions.Context): Metadata for the event.\n",
    "#     \"\"\"\n",
    "#     file = event\n",
    "#     base_object = \"gs://\"\n",
    "#     bucket_and_object_name = file[\"id\"].split(\"/\")\n",
    "#     object_url = base_object +\"/\"+bucket_and_object_name[0]+ \"/\"+bucket_and_object_name[1]\n",
    "\n",
    "#     df_customer = pd.read_csv(object_url)\n",
    "#     df_transaction = pd.read_csv(\"gs://handmdataset/transactions_train.csv\")\n",
    "\n",
    "#     df_customer , df_transaction\n",
    "\n",
    "# cusotmer.csvとtransaction.csvがある場所を入力\n",
    "customer_df = pd.read_csv(\"customers.csv\")\n",
    "transaction_df = pd.read_csv(\"transactions_train.csv\")\n",
    "\n",
    "def sampling_customer_sum(age):\n",
    "  # 年代ごとの割合を計算\n",
    "  if age == 20:\n",
    "    teenagers_df = customer_df[(customer_df['age'] < age)]\n",
    "    teenagers_percentage = len(teenagers_df) / len(customer_df) * 100\n",
    "    sampling_customer = int(20000 * (teenagers_percentage/100))\n",
    "  elif age == 80:\n",
    "    over_df = customer_df[(customer_df['age'] > age)]\n",
    "    over_percentage = len(over_df) / len(customer_df) * 100\n",
    "    sampling_customer = int(20000 * (over_percentage/100))\n",
    "  else:\n",
    "    middle_df = customer_df[(customer_df['age'] >= (age-10)) & (customer_df['age'] < age)]\n",
    "    over_percentage = len(middle_df) / len(customer_df) * 100\n",
    "    sampling_customer = int(20000 * (over_percentage/100))\n",
    "\n",
    "  return sampling_customer\n",
    "\n",
    "\n",
    "def sampling_customer():\n",
    "  for i,age in enumerate(age_list):\n",
    "    if age == 20:\n",
    "      age_sum = sampling_customer_sum(age)\n",
    "      # データフレームから条件に合致する行を抽出\n",
    "      filtered_df = customer_df[customer_df[\"age\"] < age]\n",
    "      # ランダムな行のインデックスを抽出\n",
    "      random_indices = random.sample(list(filtered_df.index), age_sum)\n",
    "      random_dict[i] = random_indices\n",
    "    elif age < 80:\n",
    "      age_sum = sampling_customer_sum(age)\n",
    "      # データフレームから条件に合致する行を抽出\n",
    "      filtered_df = customer_df[customer_df[\"age\"] < age]\n",
    "\n",
    "      # ランダムな行のインデックスを抽出\n",
    "      random_indices = random.sample(list(filtered_df.index), age_sum)\n",
    "\n",
    "      random_dict[i] = random_indices\n",
    "    else :\n",
    "      age_sum = sampling_customer_sum(age)\n",
    "      # データフレームから条件に合致する行を抽出\n",
    "      filtered_df = customer_df[(age - 10 <= customer_df[\"age\"]) & (customer_df[\"age\"] < age)]\n",
    "      # ランダムな行のインデックスを抽出\n",
    "      random_indices = random.sample(list(filtered_df.index), age_sum)\n",
    "      random_dict[i] = random_indices\n",
    "\n",
    "  merged_list = [item for sublist in random_dict.values() for item in sublist]\n",
    "\n",
    "  # df1からdfのcustomer_idに該当する記録を抽出\n",
    "  filtered_records = customer_df[customer_df.index.isin(merged_list)]\n",
    "  # dfのcustomer_idをリストとして取得\n",
    "  XXX = filtered_records['customer_id'].tolist()\n",
    "  # df1からdfのcustomer_idに該当する記録を抽出\n",
    "  filtered_df = transaction_df[transaction_df['customer_id'].isin(XXX)]\n",
    "  \n",
    "  return filtered_df\n",
    "\n",
    "def asociation_model():\n",
    "  # 最新の日付を取得\n",
    "  latest_date_str = filtered_df[\"t_dat\"].max()\n",
    "  # 年月日形式の文字列を日付オブジェクトに変換\n",
    "  latest_date = datetime.datetime.strptime(latest_date_str, \"%Y-%m-%d\")\n",
    "  # 1年前の日付を計算\n",
    "  one_year_ago = latest_date - datetime.timedelta(days=30)\n",
    "  # 結果を年月日形式の文字列として取得\n",
    "  one_year_ago_str = one_year_ago.strftime(\"%Y-%m-%d\")\n",
    "  one_year_latest = filtered_df[filtered_df[\"t_dat\"] >=one_year_ago_str]\n",
    "  # クロス集計の作成\n",
    "  cross_table = pd.crosstab(filtered_df['customer_id'], filtered_df['article_id'])\n",
    "  # 1つでも買っていれば1そうでなければ0\n",
    "  cross_table = cross_table.applymap(lambda x: 1 if x != 0 else 0)\n",
    "  cross_table = cross_table.astype('object')\n",
    "  freq_article = apriori(cross_table, min_support=0.005, use_colnames=True)\n",
    "  freq_article.sort_values(\"support\", ascending=False)\n",
    "  rules = association_rules(freq_article , metric=\"lift\",min_threshold=0.001)\n",
    "  \n",
    "  rules.sort_values(\"lift\",ascending=False)[[\"antecedents\",\t\"consequents\",\"lift\"]].to_csv(\"rule.csv\")"
   ]
  },
  {
   "cell_type": "code",
   "execution_count": 16,
   "metadata": {},
   "outputs": [],
   "source": [
    "filtered_df = sampling_customer()"
   ]
  },
  {
   "cell_type": "code",
   "execution_count": 17,
   "metadata": {},
   "outputs": [
    {
     "name": "stderr",
     "output_type": "stream",
     "text": [
      "C:\\Users\\simo4\\anaconda3\\lib\\site-packages\\mlxtend\\frequent_patterns\\fpcommon.py:110: DeprecationWarning: DataFrames with non-bool types result in worse computationalperformance and their support might be discontinued in the future.Please use a DataFrame with bool type\n",
      "  warnings.warn(\n"
     ]
    }
   ],
   "source": [
    "asociation_model()"
   ]
  },
  {
   "cell_type": "code",
   "execution_count": null,
   "metadata": {},
   "outputs": [],
   "source": []
  }
 ],
 "metadata": {
  "kernelspec": {
   "display_name": "Python 3 (ipykernel)",
   "language": "python",
   "name": "python3"
  },
  "language_info": {
   "codemirror_mode": {
    "name": "ipython",
    "version": 3
   },
   "file_extension": ".py",
   "mimetype": "text/x-python",
   "name": "python",
   "nbconvert_exporter": "python",
   "pygments_lexer": "ipython3",
   "version": "3.9.12"
  }
 },
 "nbformat": 4,
 "nbformat_minor": 4
}
