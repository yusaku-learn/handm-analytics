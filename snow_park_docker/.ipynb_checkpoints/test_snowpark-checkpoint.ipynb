{
 "cells": [
  {
   "cell_type": "code",
   "execution_count": 20,
   "id": "d19c0870-61ac-428d-9c16-099fffa3b2f0",
   "metadata": {},
   "outputs": [],
   "source": [
    "from snowflake.snowpark.session import Session\n",
    "import json\n",
    "import datetime\n",
    "\n",
    "\n",
    "def check_quarter(quarter):\n",
    "    if quarter == 1:\n",
    "        return 4\n",
    "    else:\n",
    "        return quarter - 1\n",
    "    \n",
    "def check_year(quarter,year):\n",
    "    if quarter == 1:\n",
    "        return year - 1\n",
    "    \n",
    "    else:\n",
    "        return year\n",
    "\n",
    "def main():\n",
    "    # credention情報を入力\n",
    "    snowflake_connection_cfg = json.loads(open('./snowflake_connection.json').read())\n",
    "    session = Session.builder.configs(snowflake_connection_cfg).create()\n",
    "    \n",
    "    # HANDMデータベースを使用することを指定\n",
    "    query_use_database = '''\n",
    "    use database HANDM\n",
    "    '''\n",
    "    session.sql(query_use_database).collect()\n",
    "    \n",
    "    now = datetime.datetime.now()\n",
    "    quarter = (now.month - 1) // 3 + 1\n",
    "    year = now.year\n",
    "    month = now.month\n",
    "    \n",
    "    # テーブルの作成\n",
    "    query_create_table = f'''\n",
    "        create or replace TABLE HANDM.PUBLIC.TRANSACTION_{year}_{quarter} (\n",
    "        T_DAT string,\n",
    "        CUSTOMER_ID string,\n",
    "        article_id int,\n",
    "        PRICE float ,\n",
    "        SALES_CHANNEL_ID int\n",
    "    );\n",
    "    '''\n",
    "    session.sql(query_create_table).collect()\n",
    "    \n",
    "    # transactionデータを挿入する場所の変更\n",
    "    # 四半期当日の午前２時に実施\n",
    "    \n",
    "    query_change_into_table = f'''\n",
    "    create or replace pipe HANDM.PUBLIC.TRANSACTION_PIPE auto_ingest=true integration='STREAMING_TRANSACTION_INTEGRATION' as COPY INTO HANDM.PUBLIC.TRANSACTION_{year}_{quarter} (T_DAT, CUSTOMER_ID, ARTICLE_ID,PRICE,SALES_CHANNEL_ID)\n",
    "      FROM (\n",
    "        SELECT\n",
    "          $1:t_dat::STRING AS T_DAT,\n",
    "          $1:customer_id::STRING AS CUSTOMER_ID,\n",
    "          $1:article_id::int AS article_id,\n",
    "          $1:price::float AS PRICE ,\n",
    "          $1:sales_channel_id::int AS SALES_CHANNEL_ID\n",
    "\n",
    "        FROM @STOREAMING_TRANSACTION\n",
    "      )\n",
    "      FILE_FORMAT = (TYPE = 'JSON');\n",
    "    '''\n",
    "    session.sql(query_change_into_table).collect()\n",
    "    \n",
    "    # CSVファイルでCloud Storageに出力\n",
    "    query_export_csv = f'''\n",
    "    COPY INTO @ARCHIVE_TRANSACTION/{check_year(quarter,year)}/{check_year(quarter,year)}_{check_quarter(quarter)}\n",
    "    FROM TRANSACTION_{check_year(quarter,year)}_{check_quarter(quarter)}\n",
    "    FILE_FORMAT = (TYPE = CSV, FIELD_DELIMITER = ',');\n",
    "    '''\n",
    "    \n",
    "    # 二個前のtableを削除\n",
    "    \n",
    "    query_delet_table = f'''\n",
    "    drop table TRANSACTION_{check_year(quarter,year)}_{check_quarter(quarter)-1};\n",
    "    '''\n",
    "    session.sql(query_delet_table).collect()"
   ]
  },
  {
   "cell_type": "code",
   "execution_count": 24,
   "id": "b0ba15e9-3a5d-4fff-bbd7-104062860bbf",
   "metadata": {},
   "outputs": [
    {
     "name": "stdout",
     "output_type": "stream",
     "text": [
      "HANDM.PUBLIC.TRANSACTION_2023_3\n",
      "@ARCHIVE_TRANSACTION/2023/2023_2\n",
      "TRANSACTION_2023_2\n"
     ]
    }
   ],
   "source": [
    "if __name__ == \"__main__\":\n",
    "    main()"
   ]
  },
  {
   "cell_type": "code",
   "execution_count": null,
   "id": "ed5a8a56-3588-4d45-a229-c1fefbcdb7d9",
   "metadata": {},
   "outputs": [],
   "source": []
  }
 ],
 "metadata": {
  "kernelspec": {
   "display_name": "Python 3 (ipykernel)",
   "language": "python",
   "name": "python3"
  },
  "language_info": {
   "codemirror_mode": {
    "name": "ipython",
    "version": 3
   },
   "file_extension": ".py",
   "mimetype": "text/x-python",
   "name": "python",
   "nbconvert_exporter": "python",
   "pygments_lexer": "ipython3",
   "version": "3.8.16"
  }
 },
 "nbformat": 4,
 "nbformat_minor": 5
}
