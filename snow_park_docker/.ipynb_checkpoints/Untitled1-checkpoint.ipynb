{
 "cells": [
  {
   "cell_type": "code",
   "execution_count": 1,
   "id": "e411d3dc-5087-4865-bad2-37748b325fe1",
   "metadata": {},
   "outputs": [
    {
     "name": "stdout",
     "output_type": "stream",
     "text": [
      "Intel MKL WARNING: Support of Intel(R) Streaming SIMD Extensions 4.2 (Intel(R) SSE4.2) enabled only processors has been deprecated. Intel oneAPI Math Kernel Library 2025.0 will require Intel(R) Advanced Vector Extensions (Intel(R) AVX) instructions.\n",
      "Intel MKL WARNING: Support of Intel(R) Streaming SIMD Extensions 4.2 (Intel(R) SSE4.2) enabled only processors has been deprecated. Intel oneAPI Math Kernel Library 2025.0 will require Intel(R) Advanced Vector Extensions (Intel(R) AVX) instructions.\n"
     ]
    }
   ],
   "source": [
    "from snowflake.snowpark.session import Session\n",
    "import json"
   ]
  },
  {
   "cell_type": "code",
   "execution_count": 3,
   "id": "e8d2d2f9-3c72-409e-8db7-4cde8a9e4a98",
   "metadata": {},
   "outputs": [],
   "source": [
    "# credention情報を入力\n",
    "snowflake_connection_cfg = json.loads(open('./snowflake_connection.json').read())\n",
    "session = Session.builder.configs(snowflake_connection_cfg).create()"
   ]
  },
  {
   "cell_type": "code",
   "execution_count": 64,
   "id": "daa47547-c799-46c9-a50d-b62d35404eea",
   "metadata": {},
   "outputs": [
    {
     "data": {
      "text/plain": [
       "[Row(created_on=datetime.datetime(2023, 6, 21, 18, 51, 10, 311000, tzinfo=<DstTzInfo 'America/Los_Angeles' PDT-1 day, 17:00:00 DST>), name='DBT_TRAINING', is_default='N', is_current='N', origin='', owner='ACCOUNTADMIN', comment='', options='', retention_time='1', kind='STANDARD'),\n",
       " Row(created_on=datetime.datetime(2023, 7, 1, 18, 38, 59, 526000, tzinfo=<DstTzInfo 'America/Los_Angeles' PDT-1 day, 17:00:00 DST>), name='EFFECTIVE_SQL', is_default='N', is_current='N', origin='', owner='ACCOUNTADMIN', comment='', options='', retention_time='1', kind='STANDARD'),\n",
       " Row(created_on=datetime.datetime(2023, 7, 3, 21, 12, 41, 279000, tzinfo=<DstTzInfo 'America/Los_Angeles' PDT-1 day, 17:00:00 DST>), name='EXPERT_SQL', is_default='N', is_current='N', origin='', owner='ACCOUNTADMIN', comment='', options='', retention_time='1', kind='STANDARD'),\n",
       " Row(created_on=datetime.datetime(2023, 6, 20, 1, 54, 33, 25000, tzinfo=<DstTzInfo 'America/Los_Angeles' PDT-1 day, 17:00:00 DST>), name='HANDM', is_default='N', is_current='Y', origin='', owner='ACCOUNTADMIN', comment='', options='', retention_time='1', kind='STANDARD'),\n",
       " Row(created_on=datetime.datetime(2023, 6, 20, 1, 22, 42, 445000, tzinfo=<DstTzInfo 'America/Los_Angeles' PDT-1 day, 17:00:00 DST>), name='SNOWFLAKE', is_default='N', is_current='N', origin='SNOWFLAKE.ACCOUNT_USAGE', owner='', comment='', options='', retention_time='0', kind='IMPORTED DATABASE'),\n",
       " Row(created_on=datetime.datetime(2023, 6, 20, 1, 22, 45, 798000, tzinfo=<DstTzInfo 'America/Los_Angeles' PDT-1 day, 17:00:00 DST>), name='SNOWFLAKE_SAMPLE_DATA', is_default='N', is_current='N', origin='SFSALESSHARED.SFC_SAMPLES_GCPUSEAST4.SAMPLE_DATA', owner='ACCOUNTADMIN', comment='Provided by Snowflake during account provisioning', options='', retention_time='0', kind='IMPORTED DATABASE')]"
      ]
     },
     "execution_count": 64,
     "metadata": {},
     "output_type": "execute_result"
    }
   ],
   "source": [
    "# # データベースを取得\n",
    "# session.sql('show databases').collect()"
   ]
  },
  {
   "cell_type": "code",
   "execution_count": 65,
   "id": "8a0efa4c-010a-4dde-9830-06ddddb86b9c",
   "metadata": {},
   "outputs": [
    {
     "data": {
      "text/plain": [
       "[Row(status='Statement executed successfully.')]"
      ]
     },
     "execution_count": 65,
     "metadata": {},
     "output_type": "execute_result"
    }
   ],
   "source": [
    "# HANDMデータベースを使用することを指定\n",
    "query_use_database = '''\n",
    "use database HANDM\n",
    "'''\n",
    "session.sql(query_use_database).collect()"
   ]
  },
  {
   "cell_type": "code",
   "execution_count": 47,
   "id": "35794a52-317b-416b-add2-f655a2056a48",
   "metadata": {},
   "outputs": [],
   "source": [
    "# 日付の取得\n",
    "import datetime\n",
    "now = datetime.datetime.now()\n",
    "quarter = (now.month - 1) // 3 + 1\n",
    "year = now.year\n",
    "month = now.month\n",
    "\n",
    "def test(quarter):\n",
    "    if quarter == 1:\n",
    "        return 4\n",
    "    else:\n",
    "        return quarter - 1\n",
    "    \n",
    "def test_1(quarter,year):\n",
    "    if quarter == 1:\n",
    "        return year - 1\n",
    "    \n",
    "    else:\n",
    "        return year"
   ]
  },
  {
   "cell_type": "code",
   "execution_count": 80,
   "id": "86e36a12-14f0-49c8-b232-16e149bfdee4",
   "metadata": {},
   "outputs": [
    {
     "data": {
      "text/plain": [
       "[Row(status='Table TRANSACTION_2023_2 successfully created.')]"
      ]
     },
     "execution_count": 80,
     "metadata": {},
     "output_type": "execute_result"
    }
   ],
   "source": [
    "# テスト用（擬似的に前のテーブルを作成）\n",
    "\n",
    "query_test = f'''\n",
    "CREATE OR REPLACE TABLE HANDM.PUBLIC.TRANSACTION_{str(year)}_2\n",
    "(\n",
    "    T_DAT string,\n",
    "    CUSTOMER_ID string,\n",
    "    article_id int,\n",
    "    PRICE float ,\n",
    "    SALES_CHANNEL_ID int);\n",
    "'''\n",
    "session.sql(query_test).collect()"
   ]
  },
  {
   "cell_type": "markdown",
   "id": "481f6a01-18fa-4b01-a4db-b36cc0b3b291",
   "metadata": {},
   "source": [
    "### Changed to 4th quarter"
   ]
  },
  {
   "cell_type": "code",
   "execution_count": null,
   "id": "8399446e-dafa-40be-aef4-f08506ff10a6",
   "metadata": {},
   "outputs": [],
   "source": [
    "# create or replace task HANDM.PUBLIC.export_transaction_csv\n",
    "# warehouse=COMPUTE_WH\n",
    "# schedule='USING CRON 30 14 * * * Asia/Tokyo'"
   ]
  },
  {
   "cell_type": "code",
   "execution_count": 66,
   "id": "9d588550-4bf2-48af-ae9a-e785fbad355c",
   "metadata": {},
   "outputs": [
    {
     "data": {
      "text/plain": [
       "[Row(status='Task CREATE_TRANSACTION_QUARTER_TABLE successfully created.')]"
      ]
     },
     "execution_count": 66,
     "metadata": {},
     "output_type": "execute_result"
    }
   ],
   "source": [
    "# テーブルの作成\n",
    "query = f'''\n",
    "create or replace task HANDM.PUBLIC.CREATE_transaction_quarter_TABLE\n",
    "warehouse=COMPUTE_WH\n",
    "schedule='USING CRON 00 2 1 1,4,7,10 * Asia/Tokyo'\n",
    "as\n",
    "    create or replace TABLE HANDM.PUBLIC.TRANSACTION_{year}_{quarter} (\n",
    "    T_DAT string,\n",
    "    CUSTOMER_ID string,\n",
    "    article_id int,\n",
    "    PRICE float ,\n",
    "    SALES_CHANNEL_ID int\n",
    ");\n",
    "'''\n",
    "session.sql(query).collect()"
   ]
  },
  {
   "cell_type": "code",
   "execution_count": 67,
   "id": "e241c553-6749-470e-8eea-98efea50679c",
   "metadata": {},
   "outputs": [
    {
     "data": {
      "text/plain": [
       "[Row(status='Task CHANGE_INTO_TABLE successfully created.')]"
      ]
     },
     "execution_count": 67,
     "metadata": {},
     "output_type": "execute_result"
    }
   ],
   "source": [
    "# transactionデータを挿入する場所の変更\n",
    "# 四半期当日の午前２時に実施\n",
    "query = f'''\n",
    "create or replace task HANDM.PUBLIC.CHANGE_INTO_TABLE\n",
    "warehouse=COMPUTE_WH\n",
    "schedule='USING CRON 00 2 1 1,4,7,10 * Asia/Tokyo'\n",
    "as\n",
    "create or replace pipe HANDM.PUBLIC.TRANSACTION_PIPE auto_ingest=true integration='STREAMING_TRANSACTION_INTEGRATION' as COPY INTO HANDM.PUBLIC.TRANSACTION_{year}_{quarter} (T_DAT, CUSTOMER_ID, ARTICLE_ID,PRICE,SALES_CHANNEL_ID)\n",
    "  FROM (\n",
    "    SELECT\n",
    "      $1:t_dat::STRING AS T_DAT,\n",
    "      $1:customer_id::STRING AS CUSTOMER_ID,\n",
    "      $1:article_id::int AS article_id,\n",
    "      $1:price::float AS PRICE ,\n",
    "      $1:sales_channel_id::int AS SALES_CHANNEL_ID\n",
    "      \n",
    "    FROM @STOREAMING_TRANSACTION\n",
    "  )\n",
    "  FILE_FORMAT = (TYPE = 'JSON');\n",
    "'''\n",
    "session.sql(query).collect()"
   ]
  },
  {
   "cell_type": "code",
   "execution_count": 76,
   "id": "ac2666c4-1024-4df8-968f-80c91e2ec07f",
   "metadata": {},
   "outputs": [
    {
     "data": {
      "text/plain": [
       "[Row(status='Task EXPORT_TABLE_TRANSACTION successfully created.')]"
      ]
     },
     "execution_count": 76,
     "metadata": {},
     "output_type": "execute_result"
    }
   ],
   "source": [
    "# アーカイブ用のバケットを作成(ステージングも行う)\n",
    "# 四半期の最後に実施(schedule)\n",
    "\n",
    "query = f'''\n",
    "create or replace task HANDM.PUBLIC.export_table_transaction\n",
    "warehouse=COMPUTE_WH\n",
    "schedule='USING CRON 00 2 1 1,4,7,10 * Asia/Tokyo'\n",
    "as\n",
    "COPY INTO @ARCHIVE_TRANSACTION/{test_1(quarter,year)}/{test_1(quarter,year)}_{test(quarter)}\n",
    "FROM TRANSACTION_{test_1(quarter,year)}_{test(quarter)}\n",
    "FILE_FORMAT = (TYPE = CSV, FIELD_DELIMITER = ',');\n",
    "'''\n",
    "session.sql(query).collect()"
   ]
  },
  {
   "cell_type": "code",
   "execution_count": null,
   "id": "7391657a-5ea6-4a44-a4e2-b9adb8f6f780",
   "metadata": {},
   "outputs": [],
   "source": []
  }
 ],
 "metadata": {
  "kernelspec": {
   "display_name": "Python 3 (ipykernel)",
   "language": "python",
   "name": "python3"
  },
  "language_info": {
   "codemirror_mode": {
    "name": "ipython",
    "version": 3
   },
   "file_extension": ".py",
   "mimetype": "text/x-python",
   "name": "python",
   "nbconvert_exporter": "python",
   "pygments_lexer": "ipython3",
   "version": "3.8.16"
  }
 },
 "nbformat": 4,
 "nbformat_minor": 5
}
